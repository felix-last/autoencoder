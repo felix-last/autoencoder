{
 "cells": [
  {
   "cell_type": "code",
   "execution_count": 11,
   "metadata": {
    "collapsed": false
   },
   "outputs": [],
   "source": [
    "import numpy as np\n",
    "from sklearn import preprocessing\n",
    "import matplotlib.pyplot as plt\n",
    "%matplotlib inline\n",
    "import seaborn as sns\n",
    "sns.set_style('whitegrid')\n",
    "\n",
    "from autoencoder import Autoencoder as Autoencoder"
   ]
  },
  {
   "cell_type": "code",
   "execution_count": 3,
   "metadata": {
    "collapsed": false
   },
   "outputs": [
    {
     "name": "stdout",
     "output_type": "stream",
     "text": [
      "<class 'pandas.core.frame.DataFrame'>\n",
      "Int64Index: 683 entries, 0 to 698\n",
      "Data columns (total 9 columns):\n",
      "Clump Thickness                683 non-null int64\n",
      "Uniformity of Cell Size        683 non-null int64\n",
      "Uniformity of Cell Shape       683 non-null int64\n",
      "Marginal Adhesion              683 non-null int64\n",
      "Single Epithelial Cell Size    683 non-null int64\n",
      "Bare Nuclei                    683 non-null float64\n",
      "Bland Chromatin                683 non-null int64\n",
      "Normal Nucleoli                683 non-null int64\n",
      "Mitoses                        683 non-null int64\n",
      "dtypes: float64(1), int64(8)\n",
      "memory usage: 53.4 KB\n"
     ]
    },
    {
     "data": {
      "text/plain": [
       "None"
      ]
     },
     "metadata": {},
     "output_type": "display_data"
    }
   ],
   "source": [
    "import pandas as pd\n",
    "from IPython.display import display\n",
    "breastcancer_data_raw = pd.read_csv(\n",
    "    'datasets/breast-cancer-wisconsin.data.txt', \n",
    "    header=None, \n",
    "    names=['ID','Clump Thickness','Uniformity of Cell Size','Uniformity of Cell Shape','Marginal Adhesion','Single Epithelial Cell Size','Bare Nuclei','Bland Chromatin','Normal Nucleoli','Mitoses','Class'], \n",
    "    na_values=['?']\n",
    ")\n",
    "breastcancer_data_raw = breastcancer_data_raw.drop(['ID', 'Class'], axis=1).dropna()\n",
    "display(breastcancer_data_raw.info())\n",
    "variable_count = len(breastcancer_data_raw.columns)\n",
    "bc_scaler = preprocessing.MinMaxScaler()\n",
    "bc_scaler.fit(breastcancer_data_raw)\n",
    "breastcancer_data = bc_scaler.transform(breastcancer_data_raw)"
   ]
  },
  {
   "cell_type": "code",
   "execution_count": 7,
   "metadata": {
    "collapsed": false
   },
   "outputs": [],
   "source": [
    "ae2 = Autoencoder([9,6,2,6,9], training_set=breastcancer_data)"
   ]
  },
  {
   "cell_type": "code",
   "execution_count": 9,
   "metadata": {
    "collapsed": false
   },
   "outputs": [
    {
     "data": {
      "image/png": "[encoded data removed]",
      "text/plain": [
       "<matplotlib.figure.Figure at 0x23232e002b0>"
      ]
     },
     "metadata": {},
     "output_type": "display_data"
    }
   ],
   "source": [
    "ae2.train(epochs=100, learning_rate=0.1)\n",
    "ae2.plot_stats()"
   ]
  }
 ],
 "metadata": {
  "anaconda-cloud": {},
  "kernelspec": {
   "display_name": "Python [conda root]",
   "language": "python",
   "name": "conda-root-py"
  },
  "language_info": {
   "codemirror_mode": {
    "name": "ipython",
    "version": 3
   },
   "file_extension": ".py",
   "mimetype": "text/x-python",
   "name": "python",
   "nbconvert_exporter": "python",
   "pygments_lexer": "ipython3",
   "version": "3.5.2"
  }
 },
 "nbformat": 4,
 "nbformat_minor": 1
}
