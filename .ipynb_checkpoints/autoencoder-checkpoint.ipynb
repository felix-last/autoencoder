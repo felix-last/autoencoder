{
 "cells": [
  {
   "cell_type": "code",
   "execution_count": 1,
   "metadata": {
    "collapsed": false
   },
   "outputs": [
    {
     "name": "stderr",
     "output_type": "stream",
     "text": [
      "WARNING (theano.configdefaults): g++ not detected ! Theano will be unable to execute optimized C-implementations (for both CPU and GPU) and will default to Python implementations. Performance will be severely degraded. To remove this warning, set Theano flags cxx to an empty string.\n"
     ]
    }
   ],
   "source": [
    "import numpy as np\n",
    "from theano import *\n",
    "import theano.tensor as T\n",
    "from sklearn import preprocessing\n",
    "import pandas as pd\n",
    "#plotting\n",
    "import matplotlib.pyplot as plt\n",
    "%matplotlib inline\n",
    "import seaborn as sns\n",
    "sns.set_style('whitegrid')"
   ]
  },
  {
   "cell_type": "code",
   "execution_count": 2,
   "metadata": {
    "collapsed": false
   },
   "outputs": [],
   "source": [
    "# Network Layout\n",
    "features_count = 3\n",
    "hidden_count = 2\n",
    "num_layers = 2\n",
    "\n",
    "x = T.dvector('x')\n",
    "w1 = theano.shared(numpy.random.randn(features_count, hidden_count), name=\"w1\")\n",
    "b1 = theano.shared(numpy.random.randn(hidden_count), name=\"b1\")\n",
    "z1 = x.dot(w1) + b1\n",
    "a1 = T.nnet.sigmoid( z1 )\n",
    "w2 = theano.shared(numpy.random.randn(hidden_count ,features_count), name=\"w2\")\n",
    "b2 = theano.shared(numpy.random.randn(features_count), name=\"b2\")\n",
    "z2 = a1.dot(w2) + b2\n",
    "a2 = T.nnet.sigmoid( z2 )\n",
    "\n",
    "feedforward = function([x], a2, name='feedforward')"
   ]
  },
  {
   "cell_type": "code",
   "execution_count": 3,
   "metadata": {
    "collapsed": false,
    "scrolled": true
   },
   "outputs": [
    {
     "name": "stdout",
     "output_type": "stream",
     "text": [
      "grad_w2 [[ -9.39714189e-02  -5.03760384e-01  -7.66504597e-01]\n",
      " [ -2.49446735e-05  -1.33722981e-04  -2.03468322e-04]]\n",
      "grad_b2 [-0.10504494 -0.5631231  -0.85682888]\n",
      "delta_w2 [[  9.39714189e-03   5.03760384e-02   7.66504597e-02]\n",
      " [  2.49446735e-06   1.33722981e-05   2.03468322e-05]]\n",
      "delta_b2 [ 0.01050449  0.05631231  0.08568289]\n",
      "delta_w1 [[ -1.26001561e-03   2.23969959e-06]\n",
      " [ -2.52003121e-03   4.47939918e-06]\n",
      " [ -3.78004682e-03   6.71909876e-06]]\n",
      "delta_b1 [ -1.26001561e-03   2.23969959e-06]\n",
      "a2 [ 0.73216443  0.6880948   0.18746739]\n",
      "grad_a2 [-0.53567113 -2.62381041 -5.62506522]\n",
      "jacob_L [ 0.19609968  0.21462035  0.15232337]\n",
      "error_L [-0.10504494 -0.5631231  -0.85682888]\n",
      "jacob_l [ 0.19609968  0.21462035  0.15232337]\n",
      "w2.dot(error_L) [ 0.1336118  -0.09433877]\n",
      "error_l [  1.26001561e-02  -2.23969959e-05]\n",
      "w1 [[ 0.419568    0.21915908]\n",
      " [-0.51268941 -0.07288468]\n",
      " [ 1.13047763 -3.18555238]]\n",
      "x_as_matrix [[ 1.]\n",
      " [ 2.]\n",
      " [ 3.]]\n",
      "grad_w1 [[  1.26001561e-02  -2.23969959e-05]\n",
      " [  2.52003121e-02  -4.47939918e-05]\n",
      " [  3.78004682e-02  -6.71909876e-05]]\n",
      "cost 9.703170830011235\n"
     ]
    }
   ],
   "source": [
    "# Define Training Functions\n",
    "eta = theano.shared(0.1,name='eta')\n",
    "output = T.dvector('output')\n",
    "cost_graph = ((a2 - x)**2).sum()\n",
    "compute_cost = function([x], cost_graph, name='compute_cost')\n",
    "#compute_avg_cost = theano.scan(fn=compute_cost, sequences=[X], outputs_info=None)\n",
    "def compute_avg_cost(dataset):\n",
    "    avg_cost = 0\n",
    "    for r in dataset:\n",
    "        avg_cost += compute_cost(r) / dataset.shape[1]\n",
    "    return avg_cost\n",
    "\n",
    "grad_w2, grad_b2, grad_a_L = T.grad(cost_graph, [w2,b2,a2])\n",
    "#pp(grad)\n",
    "#compute_gradient = function([x], cost_grad, name='compute_gradient')\n",
    "\n",
    "grad_a_L_wtrt_z_L = T.jacobian(expression=a2, wrt=z2).diagonal()\n",
    "error_L = grad_a_L * grad_a_L_wtrt_z_L\n",
    "grad_a_l_wtrt_t_l = T.jacobian(expression=a1, wrt=z1).diagonal()\n",
    "error_l = (w2.dot(error_L)) * grad_a_l_wtrt_t_l\n",
    "x_as_matrix = x.reshape((features_count, 1)) # transpose and shape to (k x 1) so that matrix multiplication is possible\n",
    "grad_w1 =  x_as_matrix * error_l #theano.scan(error_l.dot, sequences=x)# error_l.dot(x)\n",
    "grad_b1 = error_l\n",
    "\n",
    "delta_w2 = -eta * (grad_w2) \n",
    "delta_b2 = -eta * (grad_b2)\n",
    "delta_w1 = -eta * (grad_w1)\n",
    "delta_b1 = -eta * (grad_b1)\n",
    "print('grad_w2',function([x],grad_w2)([1,2,3]))\n",
    "print('grad_b2',function([x],grad_b2)([1,2,3]))\n",
    "print('delta_w2',function([x],delta_w2)([1,2,3]))\n",
    "print('delta_b2',function([x],delta_b2)([1,2,3]))\n",
    "print('delta_w1',function([x],delta_w1)([1,2,3]))\n",
    "print('delta_b1',function([x],delta_b1)([1,2,3]))\n",
    "print('a2',function([x],a2)([1,2,3]))\n",
    "print('grad_a2', function([x],grad_a_L)([1,2,3]))\n",
    "print('jacob_L', function([x],grad_a_L_wtrt_z_L)([1,2,3]))\n",
    "print('error_L', function([x],error_L)([1,2,3]))\n",
    "print('jacob_l', function([x],grad_a_L_wtrt_z_L)([1,2,3]))\n",
    "print('w2.dot(error_L)', function([x],(w2.dot(error_L)))([1,2,3]))\n",
    "print('error_l', function([x],error_l)([1,2,3]))\n",
    "print('w1', w1.get_value())\n",
    "print('x_as_matrix', function([x],x_as_matrix)([1,2,3]))\n",
    "print('grad_w1', function([x],grad_w1)([1,2,3]))\n",
    "print('cost', compute_cost([1,2,3]))\n",
    "update_L = function([x], updates=[(w2, w2 + delta_w2), (b2, b2 + delta_b2)])\n",
    "update_l = function([x], updates=[(w1, w1 + delta_w1), (b1, b1 + delta_b1)])\n",
    "update_all = function([x], updates=[(w1, w1 + delta_w1), (b1, b1 + delta_b1), (w2, w2 + delta_w2), (b2, b2 + delta_b2)])"
   ]
  },
  {
   "cell_type": "code",
   "execution_count": 4,
   "metadata": {
    "collapsed": false,
    "scrolled": false
   },
   "outputs": [
    {
     "name": "stderr",
     "output_type": "stream",
     "text": [
      "C:\\Users\\D059331\\AppData\\Local\\Continuum\\Anaconda3\\lib\\site-packages\\sklearn\\utils\\validation.py:420: DataConversionWarning: Data with input dtype int32 was converted to float64 by MinMaxScaler.\n",
      "  warnings.warn(msg, DataConversionWarning)\n"
     ]
    }
   ],
   "source": [
    "# Load and scale data\n",
    "data_raw = np.asarray([[1,2,3],[2,3,4],[5,6,7]])\n",
    "scaler = preprocessing.MinMaxScaler()\n",
    "scaler.fit(data_raw)\n",
    "data = scaler.transform(data_raw)"
   ]
  },
  {
   "cell_type": "code",
   "execution_count": 10,
   "metadata": {
    "collapsed": false
   },
   "outputs": [
    {
     "data": {
      "text/plain": [
       "<matplotlib.axes._subplots.AxesSubplot at 0x2325069df28>"
      ]
     },
     "execution_count": 10,
     "metadata": {},
     "output_type": "execute_result"
    },
    {
     "data": {
      "image/png": "[encoded data removed]",
      "text/plain": [
       "<matplotlib.figure.Figure at 0x232506cdf28>"
      ]
     },
     "metadata": {},
     "output_type": "display_data"
    }
   ],
   "source": [
    "# Perform Training\n",
    "iteration_count = 5000\n",
    "eta.set_value(0.1)\n",
    "# iterations\n",
    "\n",
    "def collect_run_info(epoch):\n",
    "    return pd.Series({\n",
    "        'cost_avg': compute_avg_cost(data)\n",
    "    }, name=epoch)\n",
    "\n",
    "df_run_info = pd.DataFrame([collect_run_info(0)])\n",
    "df_run_info.index.set_names(['epoch'], inplace=True)\n",
    "    \n",
    "for epoch in range(1, iteration_count+1):\n",
    "    for row in data:\n",
    "        update_all(row)\n",
    "    df_run_info = df_run_info.append(collect_run_info(epoch))#pd.concat([df_run_info, collect_run_info(epoch)])\n",
    "        \n",
    "df_run_info.plot()"
   ]
  }
 ],
 "metadata": {
  "anaconda-cloud": {},
  "kernelspec": {
   "display_name": "Python [conda root]",
   "language": "python",
   "name": "conda-root-py"
  },
  "language_info": {
   "codemirror_mode": {
    "name": "ipython",
    "version": 3
   },
   "file_extension": ".py",
   "mimetype": "text/x-python",
   "name": "python",
   "nbconvert_exporter": "python",
   "pygments_lexer": "ipython3",
   "version": "3.5.2"
  }
 },
 "nbformat": 4,
 "nbformat_minor": 1
}
